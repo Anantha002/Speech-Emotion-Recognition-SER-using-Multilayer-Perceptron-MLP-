{
 "cells": [
  {
   "cell_type": "markdown",
   "metadata": {},
   "source": [
    "#### reference taken from:\n",
    "##### https://scikit-learn.org/stable/modules/generated/sklearn.neural_network.MLPClassifier.html\n",
    "##### https://www.kaggle.com/ahmethamzaemra/mlpclassifier-example\n",
    "##### https://medium.com/@mikesmales/sound-classification-using-deep-learning-8bc2aa1990b7\n",
    "##### https://towardsdatascience.com/speech-emotion-recognition-with-convolution-neural-network-1e6bb7130ce3"
   ]
  },
  {
   "cell_type": "code",
   "execution_count": 3,
   "metadata": {},
   "outputs": [],
   "source": [
    "import soundfile\n",
    "import matplotlib.pyplot as graph\n",
    "import librosa\n",
    "import os, glob, pickle\n",
    "import numpy as numpy\n",
    "from sklearn.model_selection import GridSearchCV\n",
    "from sklearn.model_selection import train_test_split\n",
    "from sklearn.metrics import classification_report\n",
    "from sklearn.metrics import confusion_matrix\n",
    "from prettytable import PrettyTable\n",
    "from sklearn.neural_network import MLPClassifier\n",
    "from sklearn.metrics import accuracy_score"
   ]
  },
  {
   "cell_type": "code",
   "execution_count": 4,
   "metadata": {},
   "outputs": [],
   "source": [
    "def audioFeatureExtract(audio_file_name, set_chroma, set_mfcc, set_mel):\n",
    "    with soundfile.SoundFile(audio_file_name) as audio_file:\n",
    "        audio_sample_rate=audio_file.samplerate\n",
    "        input = audio_file.read(dtype=\"float32\")\n",
    "        if set_chroma:\n",
    "            short_time_fourier_transform=numpy.abs(librosa.stft(input))\n",
    "            extracted_feature=numpy.array([])\n",
    "        if set_mfcc:\n",
    "            mfccs_output=numpy.mean(librosa.feature.mfcc(y=input, sr=audio_sample_rate, n_mfcc=40).T, axis=0)\n",
    "            extracted_feature=numpy.hstack((extracted_feature, mfccs_output))\n",
    "        if set_chroma:\n",
    "            chroma_output=numpy.mean(librosa.feature.chroma_stft(S=short_time_fourier_transform, sr=audio_sample_rate).T,axis=0)\n",
    "            extracted_feature=numpy.hstack((extracted_feature, chroma_output))\n",
    "        if set_mel:\n",
    "            mel_output=numpy.mean(librosa.feature.melspectrogram(input, sr=audio_sample_rate).T,axis=0)\n",
    "            extracted_feature=numpy.hstack((extracted_feature, mel_output))\n",
    "    return extracted_feature"
   ]
  },
  {
   "cell_type": "code",
   "execution_count": 5,
   "metadata": {},
   "outputs": [],
   "source": [
    "# feeling that we want to predict\n",
    "mood_state=['calm mood', 'happy mood', 'fearful mood', 'disgust mood']\n",
    "\n",
    "# feeling defined in RAVDESS dataset\n",
    "human_emotions={\n",
    "  '01':'neutral mood',\n",
    "  '02':'calm mood',\n",
    "  '03':'happy mood',\n",
    "  '04':'sad mood',\n",
    "  '05':'angry mood',\n",
    "  '06':'fearful mood',\n",
    "  '07':'disgust mood',\n",
    "  '08':'surprised mood'\n",
    "}\n",
    "\n"
   ]
  },
  {
   "cell_type": "code",
   "execution_count": 6,
   "metadata": {},
   "outputs": [],
   "source": [
    "def inputSoundFile(split_test_data):\n",
    "    feature_info,feeling_info=[],[]\n",
    "    for input in glob.glob(\"D:\\\\studies\\\\Term3\\\\Capstone Project\\\\Project\\\\data\\\\Actor_*\\\\*.wav\"):\n",
    "        sound_file=os.path.basename(input)\n",
    "        feeling=human_emotions[sound_file.split(\"-\")[2]]\n",
    "        if feeling not in mood_state:\n",
    "            continue\n",
    "        converted_feature=audioFeatureExtract(input, set_mfcc=True, set_chroma=True, set_mel=True)\n",
    "        feature_info.append(converted_feature)\n",
    "        feeling_info.append(feeling)\n",
    "    return train_test_split(numpy.array(feature_info), feeling_info, test_size=split_test_data, random_state=9)\n",
    "\n"
   ]
  },
  {
   "cell_type": "code",
   "execution_count": 7,
   "metadata": {},
   "outputs": [],
   "source": [
    "train_feature,test_feature,train_emotion,test_emotion=inputSoundFile(split_test_data=0.25)"
   ]
  },
  {
   "cell_type": "code",
   "execution_count": 8,
   "metadata": {},
   "outputs": [
    {
     "name": "stdout",
     "output_type": "stream",
     "text": [
      "(576, 192)\n"
     ]
    }
   ],
   "source": [
    "print((train_feature.shape[0], test_feature.shape[0]))"
   ]
  },
  {
   "cell_type": "code",
   "execution_count": 9,
   "metadata": {},
   "outputs": [
    {
     "name": "stdout",
     "output_type": "stream",
     "text": [
      "Features extracted: 180\n"
     ]
    }
   ],
   "source": [
    "print(f'Features extracted: {train_feature.shape[1]}')"
   ]
  },
  {
   "cell_type": "code",
   "execution_count": 10,
   "metadata": {},
   "outputs": [
    {
     "data": {
      "text/plain": [
       "'# Use GridSearchCV to find the best parameter combination for MLP classfier\\n# reference for GridSearchCV- https://datascience.stackexchange.com/questions/36049/how-to-adjust-the-hyperparameters-of-mlp-classifier-to-get-more-perfect-performa\\n\\ncombination_parameter = {\\'hidden_layer_sizes\\': [(400,400,400),(300,300,300), (150,150,150), (400,), (300,), (200,), (100,)],\\n                   \\'activation\\': [\\'identity\\', \\'logistic\\', \\'tanh\\', \\'relu\\'],\\'solver\\': [\\'lbfgs\\', \\'sgd\\', \\'adam\\'],\\n                   \\'alpha\\': [0.0001, 0.05, 0.01], \\'max_iter\\': [800,600,400,200], \\'learning_rate\\': [\\'constant\\',\\'adaptive\\',\\'invscaling\\'],}\\n\\nmodel = GridSearchCV(MLPClassifier(), combination_parameter, n_jobs=-1, cv=3)\\nmodel.fit(train_feature,train_emotion)\\n\\n# To display best parameter combination \\nprint(\\'Best parameters found:\\n\\', model.best_params_)\\n\\n# All results\\nmean_data = model.cv_results_[\\'mean_test_score\\']\\nstds_data = model.cv_results_[\\'std_test_score\\']\\nfor mean_value, std_value, params_value in zip(means, stds, model.cv_results_[\\'params\\']):\\n    print(\"%0.3f (+/-%0.03f) for %r\" % (mean_value, std_value * 2, params_value))\\n\\ndefined_emotion, predicted_emotion = test_emotion , model.predict(test_feature)\\n\\nprint(\\'Results on the test set:\\')\\nprint(classification_report(defined_emotion, predicted_emotion))'"
      ]
     },
     "execution_count": 10,
     "metadata": {},
     "output_type": "execute_result"
    }
   ],
   "source": [
    "'''# Use GridSearchCV to find the best parameter combination for MLP classfier\n",
    "# reference for GridSearchCV- https://datascience.stackexchange.com/questions/36049/how-to-adjust-the-hyperparameters-of-mlp-classifier-to-get-more-perfect-performa\n",
    "# comment this block if GridSearchCV is not used.\n",
    "\n",
    "combination_parameter = {'hidden_layer_sizes': [(400,400,400),(300,300,300), (150,150,150), (400,), (300,), (200,), (100,)],\n",
    "                   'activation': ['identity', 'logistic', 'tanh', 'relu'],'solver': ['lbfgs', 'sgd', 'adam'],\n",
    "                   'alpha': [0.0001, 0.05, 0.01], 'max_iter': [800,600,400,200], 'learning_rate': ['constant','adaptive','invscaling'],}\n",
    "\n",
    "model = GridSearchCV(MLPClassifier(), combination_parameter, n_jobs=-1, cv=3)\n",
    "model.fit(train_feature,train_emotion)\n",
    "\n",
    "# To display best parameter combination \n",
    "print('Best parameters found:\\n', model.best_params_)\n",
    "\n",
    "# All results\n",
    "mean_data = model.cv_results_['mean_test_score']\n",
    "stds_data = model.cv_results_['std_test_score']\n",
    "for mean_value, std_value, params_value in zip(means, stds, model.cv_results_['params']):\n",
    "    print(\"%0.3f (+/-%0.03f) for %r\" % (mean_value, std_value * 2, params_value))\n",
    "\n",
    "defined_emotion, predicted_emotion = test_emotion , model.predict(test_feature)\n",
    "\n",
    "print('Results on the test set:')\n",
    "print(classification_report(defined_emotion, predicted_emotion))'''"
   ]
  },
  {
   "cell_type": "code",
   "execution_count": 11,
   "metadata": {},
   "outputs": [],
   "source": [
    "# After finding the best parametercombination using GridSearchCV, comment the GridSearchCV section and use those parameter here to train the model.\n",
    "# This option enables you to plot the loss curve in graph!!!\n",
    "# comment this block if GridSearchCV is used\n",
    "\n",
    "trained_model=MLPClassifier(hidden_layer_sizes=(400), activation = 'tanh', solver = 'adam', alpha = 0.05,  max_iter=800,\n",
    "                            learning_rate='adaptive')\n",
    "\n",
    "model= trained_model.fit(train_feature,train_emotion)\n",
    "\n"
   ]
  },
  {
   "cell_type": "code",
   "execution_count": 13,
   "metadata": {},
   "outputs": [],
   "source": [
    "#predicting the test data set\n",
    "predicted_emotion=model.predict(test_feature)\n"
   ]
  },
  {
   "cell_type": "code",
   "execution_count": 15,
   "metadata": {},
   "outputs": [
    {
     "name": "stdout",
     "output_type": "stream",
     "text": [
      "Train set accurary: 1.000000\n",
      "Test set accurary: 0.833333\n",
      "Accuracy of MLPClassifier :83.33% \n"
     ]
    }
   ],
   "source": [
    "print(\"Train set accurary: %f\" % model.score(train_feature, train_emotion))\n",
    "print(\"Test set accurary: %f\" % model.score(test_feature, test_emotion))\n",
    "\n",
    "\n",
    "def calculate_accuracy(confusion_matrix):\n",
    "   X = confusion_matrix.trace()\n",
    "   Y = confusion_matrix.sum()\n",
    "   return X / Y\n",
    "\n",
    "\n",
    "cm = (100*(confusion_matrix(predicted_emotion, test_emotion)))\n",
    "accuracy_value=((calculate_accuracy(cm))*100)\n",
    "print(\"Accuracy of MLPClassifier :{:.2f}% \".format(accuracy_value))"
   ]
  },
  {
   "cell_type": "code",
   "execution_count": 18,
   "metadata": {},
   "outputs": [
    {
     "data": {
      "image/png": "[encoded data removed]",
      "text/plain": [
       "<Figure size 432x288 with 1 Axes>"
      ]
     },
     "metadata": {
      "needs_background": "light"
     },
     "output_type": "display_data"
    }
   ],
   "source": [
    "#plotting loss curve\n",
    "graph.plot(model.loss_curve_)\n",
    "graph.title('model loss')\n",
    "graph.ylabel('loss')\n",
    "graph.xlabel('epoch/iteration')\n",
    "graph.legend(['Loss Curve'], loc='upper right')\n",
    "graph.show()"
   ]
  },
  {
   "cell_type": "code",
   "execution_count": 19,
   "metadata": {},
   "outputs": [
    {
     "name": "stdout",
     "output_type": "stream",
     "text": [
      "+-------------------+------------------+\n",
      "| Predicted Emotion | Expected Emotion |\n",
      "+-------------------+------------------+\n",
      "|     happy mood    |    happy mood    |\n",
      "|    fearful mood   |    calm mood     |\n",
      "|     happy mood    |    happy mood    |\n",
      "|     happy mood    |    happy mood    |\n",
      "|    disgust mood   |   disgust mood   |\n",
      "|     calm mood     |    calm mood     |\n",
      "|    disgust mood   |    happy mood    |\n",
      "|     happy mood    |    happy mood    |\n",
      "|    disgust mood   |   disgust mood   |\n",
      "|     happy mood    |    happy mood    |\n",
      "|     happy mood    |    happy mood    |\n",
      "|    disgust mood   |   disgust mood   |\n",
      "|    fearful mood   |    happy mood    |\n",
      "|     happy mood    |    happy mood    |\n",
      "|    disgust mood   |   disgust mood   |\n",
      "|     happy mood    |   fearful mood   |\n",
      "|     calm mood     |    calm mood     |\n",
      "|    disgust mood   |    happy mood    |\n",
      "|    disgust mood   |   disgust mood   |\n",
      "|    disgust mood   |   disgust mood   |\n",
      "|     calm mood     |    calm mood     |\n",
      "|    disgust mood   |   disgust mood   |\n",
      "|    disgust mood   |   disgust mood   |\n",
      "|     calm mood     |    calm mood     |\n",
      "|     happy mood    |    happy mood    |\n",
      "|     happy mood    |    happy mood    |\n",
      "|    disgust mood   |   disgust mood   |\n",
      "|     happy mood    |   disgust mood   |\n",
      "|    fearful mood   |    calm mood     |\n",
      "|     happy mood    |    calm mood     |\n",
      "|     happy mood    |    happy mood    |\n",
      "|    disgust mood   |   disgust mood   |\n",
      "|     happy mood    |    happy mood    |\n",
      "|    fearful mood   |   fearful mood   |\n",
      "|     happy mood    |   fearful mood   |\n",
      "|     calm mood     |    calm mood     |\n",
      "|     calm mood     |    calm mood     |\n",
      "|    fearful mood   |   fearful mood   |\n",
      "|     calm mood     |    calm mood     |\n",
      "|     calm mood     |    calm mood     |\n",
      "|     happy mood    |    happy mood    |\n",
      "|    disgust mood   |   disgust mood   |\n",
      "|     calm mood     |    calm mood     |\n",
      "|     calm mood     |    calm mood     |\n",
      "|    disgust mood   |   disgust mood   |\n",
      "|     calm mood     |    calm mood     |\n",
      "|    disgust mood   |   disgust mood   |\n",
      "|     happy mood    |    happy mood    |\n",
      "|     calm mood     |    calm mood     |\n",
      "|     happy mood    |    happy mood    |\n",
      "|    fearful mood   |   fearful mood   |\n",
      "|    fearful mood   |   fearful mood   |\n",
      "|    fearful mood   |   fearful mood   |\n",
      "|    fearful mood   |   fearful mood   |\n",
      "|     happy mood    |    happy mood    |\n",
      "|    fearful mood   |   fearful mood   |\n",
      "|    disgust mood   |   disgust mood   |\n",
      "|     happy mood    |    happy mood    |\n",
      "|     calm mood     |    calm mood     |\n",
      "|     calm mood     |    calm mood     |\n",
      "|    disgust mood   |   disgust mood   |\n",
      "|     calm mood     |    calm mood     |\n",
      "|     happy mood    |   disgust mood   |\n",
      "|     calm mood     |    calm mood     |\n",
      "|    disgust mood   |   disgust mood   |\n",
      "|     calm mood     |    calm mood     |\n",
      "|     calm mood     |    calm mood     |\n",
      "|    disgust mood   |   disgust mood   |\n",
      "|    disgust mood   |   disgust mood   |\n",
      "|     happy mood    |    happy mood    |\n",
      "|    fearful mood   |   fearful mood   |\n",
      "|    fearful mood   |   fearful mood   |\n",
      "|    fearful mood   |   fearful mood   |\n",
      "|    fearful mood   |   fearful mood   |\n",
      "|    fearful mood   |   fearful mood   |\n",
      "|    disgust mood   |   disgust mood   |\n",
      "|    fearful mood   |   fearful mood   |\n",
      "|     happy mood    |    happy mood    |\n",
      "|     calm mood     |    calm mood     |\n",
      "|    fearful mood   |   fearful mood   |\n",
      "|    disgust mood   |   disgust mood   |\n",
      "|     calm mood     |    calm mood     |\n",
      "|    fearful mood   |    happy mood    |\n",
      "|     calm mood     |    calm mood     |\n",
      "|    disgust mood   |   disgust mood   |\n",
      "|     happy mood    |   fearful mood   |\n",
      "|    disgust mood   |    calm mood     |\n",
      "|    fearful mood   |    happy mood    |\n",
      "|    disgust mood   |   disgust mood   |\n",
      "|    fearful mood   |   fearful mood   |\n",
      "|    disgust mood   |   disgust mood   |\n",
      "|    disgust mood   |   disgust mood   |\n",
      "|     calm mood     |    calm mood     |\n",
      "|     happy mood    |   fearful mood   |\n",
      "|    disgust mood   |   disgust mood   |\n",
      "|    disgust mood   |   fearful mood   |\n",
      "|     calm mood     |    calm mood     |\n",
      "|     calm mood     |    calm mood     |\n",
      "|     calm mood     |    calm mood     |\n",
      "|    disgust mood   |   disgust mood   |\n",
      "|    fearful mood   |   fearful mood   |\n",
      "|    disgust mood   |   disgust mood   |\n",
      "|    disgust mood   |   disgust mood   |\n",
      "|    fearful mood   |   fearful mood   |\n",
      "|    disgust mood   |   disgust mood   |\n",
      "|     calm mood     |    calm mood     |\n",
      "|    disgust mood   |   disgust mood   |\n",
      "|     happy mood    |    happy mood    |\n",
      "|    fearful mood   |   fearful mood   |\n",
      "|     happy mood    |    happy mood    |\n",
      "|     happy mood    |    happy mood    |\n",
      "|     calm mood     |    calm mood     |\n",
      "|    fearful mood   |    calm mood     |\n",
      "|    fearful mood   |   fearful mood   |\n",
      "|    fearful mood   |   fearful mood   |\n",
      "|     calm mood     |    calm mood     |\n",
      "|     calm mood     |    calm mood     |\n",
      "|     happy mood    |    happy mood    |\n",
      "|     calm mood     |    calm mood     |\n",
      "|    fearful mood   |   fearful mood   |\n",
      "|     calm mood     |    calm mood     |\n",
      "|     happy mood    |    happy mood    |\n",
      "|     calm mood     |    calm mood     |\n",
      "|     happy mood    |    happy mood    |\n",
      "|    fearful mood   |   fearful mood   |\n",
      "|     calm mood     |    calm mood     |\n",
      "|    disgust mood   |   disgust mood   |\n",
      "|    fearful mood   |   fearful mood   |\n",
      "|     calm mood     |    calm mood     |\n",
      "|     calm mood     |    calm mood     |\n",
      "|    fearful mood   |   fearful mood   |\n",
      "|     happy mood    |    happy mood    |\n",
      "|     happy mood    |    happy mood    |\n",
      "|    disgust mood   |   disgust mood   |\n",
      "|    disgust mood   |   disgust mood   |\n",
      "|     happy mood    |    happy mood    |\n",
      "|    fearful mood   |   fearful mood   |\n",
      "|     calm mood     |    calm mood     |\n",
      "|    disgust mood   |   disgust mood   |\n",
      "|    disgust mood   |   disgust mood   |\n",
      "|     calm mood     |    calm mood     |\n",
      "|    fearful mood   |   fearful mood   |\n",
      "|    disgust mood   |   disgust mood   |\n",
      "|    disgust mood   |   disgust mood   |\n",
      "|     happy mood    |    happy mood    |\n",
      "|    fearful mood   |   fearful mood   |\n",
      "|    disgust mood   |   fearful mood   |\n",
      "|    fearful mood   |   disgust mood   |\n",
      "|    fearful mood   |    happy mood    |\n",
      "|     calm mood     |    calm mood     |\n",
      "|     calm mood     |    happy mood    |\n",
      "|     happy mood    |   disgust mood   |\n",
      "|     happy mood    |    happy mood    |\n",
      "|     calm mood     |    calm mood     |\n",
      "|     happy mood    |   disgust mood   |\n",
      "|     calm mood     |    calm mood     |\n",
      "|     calm mood     |    calm mood     |\n",
      "|    fearful mood   |   disgust mood   |\n",
      "|     calm mood     |    calm mood     |\n",
      "|    disgust mood   |    calm mood     |\n",
      "|    disgust mood   |   disgust mood   |\n",
      "|     calm mood     |    calm mood     |\n",
      "|     happy mood    |    happy mood    |\n",
      "|     calm mood     |    calm mood     |\n",
      "|     calm mood     |    calm mood     |\n",
      "|    fearful mood   |   fearful mood   |\n",
      "|    fearful mood   |    happy mood    |\n",
      "|     happy mood    |    happy mood    |\n",
      "|     calm mood     |    calm mood     |\n",
      "|     happy mood    |    happy mood    |\n",
      "|     happy mood    |    happy mood    |\n",
      "|     happy mood    |    happy mood    |\n",
      "|     happy mood    |   disgust mood   |\n",
      "|    disgust mood   |   disgust mood   |\n",
      "|     happy mood    |    happy mood    |\n",
      "|    fearful mood   |   fearful mood   |\n",
      "|     calm mood     |    calm mood     |\n",
      "|    fearful mood   |   fearful mood   |\n",
      "|     calm mood     |    happy mood    |\n",
      "|    fearful mood   |    happy mood    |\n",
      "|    disgust mood   |   disgust mood   |\n",
      "|    fearful mood   |    happy mood    |\n",
      "|     calm mood     |    calm mood     |\n",
      "|     calm mood     |    calm mood     |\n",
      "|    disgust mood   |    calm mood     |\n",
      "|    fearful mood   |    happy mood    |\n",
      "|     happy mood    |    happy mood    |\n",
      "|    fearful mood   |   fearful mood   |\n",
      "|     happy mood    |    happy mood    |\n",
      "|     happy mood    |    happy mood    |\n",
      "|    disgust mood   |   disgust mood   |\n",
      "|     calm mood     |    calm mood     |\n",
      "+-------------------+------------------+\n"
     ]
    }
   ],
   "source": [
    "#to display in table for predicted vs expected emotions of test data set\n",
    "\n",
    "table = PrettyTable()\n",
    "\n",
    "table.field_names = [\"Predicted Emotion\", \"Expected Emotion\"]\n",
    "\n",
    "for pred_emotion, expected_emotion in zip(predicted_emotion, test_emotion):\n",
    "    table.add_row([pred_emotion,expected_emotion])\n",
    "\n",
    "print(table)\n"
   ]
  },
  {
   "cell_type": "markdown",
   "metadata": {},
   "source": [
    "# Live Voice Prediction "
   ]
  },
  {
   "cell_type": "markdown",
   "metadata": {},
   "source": [
    "#### Record voice using python"
   ]
  },
  {
   "cell_type": "code",
   "execution_count": null,
   "metadata": {},
   "outputs": [],
   "source": [
    "import pyaudio\n",
    "import wave"
   ]
  },
  {
   "cell_type": "code",
   "execution_count": null,
   "metadata": {},
   "outputs": [],
   "source": [
    "LiveAudioName = \"liveVoice.wav\"\n",
    "# mono -1, stereo -2\n",
    "audio_channels = 1\n",
    "chunk_size = 1024\n",
    "Format_bits_per_sample = pyaudio.paInt16\n",
    "audio_duration_seconds = 4\n",
    "sample_rate = 16000\n",
    "\n",
    "py_audio = pyaudio.PyAudio()\n",
    "\n",
    "input_stream = py_audio.open(format=Format_bits_per_sample, channels=audio_channels, \n",
    "                             rate=sample_rate, input=True, output=True, frames_per_buffer=chunk_size)\n",
    "\n",
    "size = []\n",
    "print(\"Recording Started...\")\n",
    "for input_data in range(int(sample_rate / chunk_size * audio_duration_seconds)):\n",
    "    audio_data = input_stream.read(chunk_size)\n",
    "    size.append(audio_data)\n",
    "print(\"Recording Completed...\")\n",
    "input_stream.stop_stream()\n",
    "input_stream.close()\n",
    "py_audio.terminate()\n",
    "\n",
    "Wave = wave.open(LiveAudioName, \"wb\")\n",
    "Wave.setnchannels(audio_channels)\n",
    "Wave.setsampwidth(py_audio.get_sample_size(Format_bits_per_sample))\n",
    "Wave.setframerate(sample_rate)\n",
    "Wave.writeframes(b\"\".join(size))\n",
    "Wave.close()"
   ]
  },
  {
   "cell_type": "code",
   "execution_count": null,
   "metadata": {},
   "outputs": [],
   "source": [
    "def live_load_data():\n",
    "    x=[]\n",
    "    file_name=os.path.basename(\"D:\\\\studies\\\\Term3\\\\Capstone Project\\\\liveVoice.wav\")\n",
    "    feature=audioFeatureExtract(file_name, set_mfcc=True, set_chroma=True, set_mel=True)\n",
    "    x.append(feature)\n",
    "    print(\"feature extracted successfully\")\n",
    "    return x"
   ]
  },
  {
   "cell_type": "code",
   "execution_count": null,
   "metadata": {},
   "outputs": [],
   "source": [
    "live_pred_feature = live_load_data()"
   ]
  },
  {
   "cell_type": "code",
   "execution_count": null,
   "metadata": {},
   "outputs": [],
   "source": [
    "live_predicted_emotion=model.predict(live_pred_feature)"
   ]
  },
  {
   "cell_type": "code",
   "execution_count": null,
   "metadata": {},
   "outputs": [],
   "source": [
    "print(\"The emotion for live recording is\",live_predicted_emotion[0])"
   ]
  },
  {
   "cell_type": "code",
   "execution_count": null,
   "metadata": {},
   "outputs": [],
   "source": []
  },
  {
   "cell_type": "code",
   "execution_count": null,
   "metadata": {},
   "outputs": [],
   "source": []
  },
  {
   "cell_type": "code",
   "execution_count": null,
   "metadata": {},
   "outputs": [],
   "source": []
  }
 ],
 "metadata": {
  "kernelspec": {
   "display_name": "Python 3",
   "language": "python",
   "name": "python3"
  },
  "language_info": {
   "codemirror_mode": {
    "name": "ipython",
    "version": 3
   },
   "file_extension": ".py",
   "mimetype": "text/x-python",
   "name": "python",
   "nbconvert_exporter": "python",
   "pygments_lexer": "ipython3",
   "version": "3.7.4"
  }
 },
 "nbformat": 4,
 "nbformat_minor": 4
}
